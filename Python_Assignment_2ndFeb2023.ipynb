{
 "cells": [
  {
   "cell_type": "markdown",
   "id": "fa30c4b7",
   "metadata": {},
   "source": [
    "# Q1.  Explain with an example each when to use a for loop and a while loop."
   ]
  },
  {
   "cell_type": "code",
   "execution_count": 35,
   "id": "571f411b",
   "metadata": {},
   "outputs": [
    {
     "name": "stdout",
     "output_type": "stream",
     "text": [
      "For loop\n",
      "0\n",
      "1\n",
      "2\n",
      "3\n",
      "4\n",
      "5\n",
      "6\n",
      "7\n",
      "8\n",
      "9\n",
      "\n",
      "While loop\n",
      "0\n",
      "1\n",
      "2\n",
      "3\n",
      "4\n",
      "5\n",
      "6\n",
      "7\n",
      "8\n",
      "9\n"
     ]
    }
   ],
   "source": [
    "# Initialization, conditional checking and increment or decrement is done in for loop while executing. \n",
    "# On the other hand only initialization and condition checking in required for while loop.\n",
    "\n",
    "print(\"For loop\")\n",
    "li=range(10)\n",
    "for i in li:\n",
    "    print(i)\n",
    "print()   \n",
    "\n",
    "print(\"While loop\")\n",
    "i=0    \n",
    "while i<(len(li)):\n",
    "    print(i)\n",
    "    i+=1"
   ]
  },
  {
   "cell_type": "code",
   "execution_count": 17,
   "id": "47920c35",
   "metadata": {},
   "outputs": [
    {
     "name": "stdout",
     "output_type": "stream",
     "text": [
      "For loop\n",
      "0\n",
      "1\n",
      "2\n",
      "3\n",
      "4\n",
      "5\n",
      "6\n",
      "7\n",
      "8\n",
      "9\n",
      "\n",
      "While loop\n",
      "0\n",
      "1\n",
      "2\n",
      "3\n",
      "4\n",
      "5\n",
      "6\n",
      "7\n",
      "8\n",
      "9\n"
     ]
    }
   ],
   "source": [
    "# For loop is used when we are aware of the number iterations at the time of execution. \n",
    "# on the other hand, in “while” loop, we can execute it even if we are not aware of the number of iterations.\n",
    "\n",
    "print(\"For loop\")\n",
    "li=range(10)\n",
    "for i in li:\n",
    "    print(i)\n",
    "print() \n",
    "\n",
    "print(\"While loop\")\n",
    "i=0    \n",
    "while True:\n",
    "    if i>9:\n",
    "        break\n",
    "    print(i)\n",
    "    i+=1"
   ]
  },
  {
   "cell_type": "code",
   "execution_count": null,
   "id": "45fd5830",
   "metadata": {},
   "outputs": [],
   "source": [
    "# In the for loop initialization statement will be executed only once\n",
    "# In while loop, it doesn’t matter whether initialization statement finds anywhere in that block."
   ]
  },
  {
   "cell_type": "markdown",
   "id": "05b85c9e",
   "metadata": {},
   "source": [
    "# Q2.  Write a python program to print the sum and product of the first 10 natural numbers using for and while loop."
   ]
  },
  {
   "cell_type": "code",
   "execution_count": 24,
   "id": "1ba63a0a",
   "metadata": {},
   "outputs": [
    {
     "name": "stdout",
     "output_type": "stream",
     "text": [
      "For loop\n",
      "Addition is:  55\n",
      "Multiplication is:  3628800 \n",
      "\n",
      "While loop\n",
      "Addition is:  55\n",
      "Multiplication is:  3628800 \n",
      "\n"
     ]
    }
   ],
   "source": [
    "print(\"For loop\")\n",
    "addition=0\n",
    "multiplication=1\n",
    "for i in range(1,11,1):\n",
    "    addition=addition+i\n",
    "    multiplication=multiplication*i\n",
    "print(\"Addition is: \",addition)\n",
    "print(\"Multiplication is: \",multiplication,'\\n')\n",
    "\n",
    "print(\"While loop\")\n",
    "addition=0\n",
    "multiplication=1\n",
    "i=1\n",
    "while i<11:\n",
    "    addition=addition+i\n",
    "    multiplication=multiplication*i\n",
    "    i+=1\n",
    "print(\"Addition is: \",addition)\n",
    "print(\"Multiplication is: \",multiplication,'\\n')"
   ]
  },
  {
   "cell_type": "markdown",
   "id": "3310af9c",
   "metadata": {},
   "source": [
    "# Q3. Create a python program to compute the electricity bill for a household.\n",
    "#### The per-unit charges in rupees are as follows: \n",
    "#### For the first 100 units, the user will be charged Rs. 4.5 per unit, for the next 100 units, the user will be charged Rs. 6 per unit, and for the next 100 units, the user will be charged Rs. 10 per unit, After 300 units and above the user will be charged Rs. 20 per unit. You are required to take the units of electricity consumed in a month from the user as input.\n",
    "\n",
    "#### Your program must pass this test case: when the unit of electricity consumed by the user in a month is 310, the total electricity bill should be 2250."
   ]
  },
  {
   "cell_type": "code",
   "execution_count": 27,
   "id": "9edd5f96",
   "metadata": {},
   "outputs": [
    {
     "name": "stdout",
     "output_type": "stream",
     "text": [
      "Enter Units:: 310\n",
      "2250.0\n"
     ]
    }
   ],
   "source": [
    "units=float(input(\"Enter Units:: \"))\n",
    "while units>0:\n",
    "    if units<=100:\n",
    "        total=units*4.5\n",
    "    elif units>100 and units<=200:\n",
    "        total=(100*4.5)+((units-100)*6)\n",
    "    elif units>200 and units<=300:\n",
    "        total=(100*4.5)+(100*6)+((units-200)*10)\n",
    "    else:\n",
    "        total=(100*4.5)+(100*6)+(100*10)+((units-300)*20)\n",
    "    print(total)\n",
    "    break\n"
   ]
  },
  {
   "cell_type": "markdown",
   "id": "318c0f74",
   "metadata": {},
   "source": [
    "# Q4. Create a list of numbers from 1 to 100. Use for loop and while loop To calculate the cube of each number and if the cube of that number is divisible by 4 or 5 then append that number in a list and print that list"
   ]
  },
  {
   "cell_type": "code",
   "execution_count": 33,
   "id": "ad202d8e",
   "metadata": {},
   "outputs": [
    {
     "name": "stdout",
     "output_type": "stream",
     "text": [
      "For loop\n",
      "[2, 4, 5, 6, 8, 10, 12, 14, 15, 16, 18, 20, 22, 24, 25, 26, 28, 30, 32, 34, 35, 36, 38, 40, 42, 44, 45, 46, 48, 50, 52, 54, 55, 56, 58, 60, 62, 64, 65, 66, 68, 70, 72, 74, 75, 76, 78, 80, 82, 84, 85, 86, 88, 90, 92, 94, 95, 96, 98, 100] \n",
      "\n",
      "While loop\n",
      "[2, 4, 5, 6, 8, 10, 12, 14, 15, 16, 18, 20, 22, 24, 25, 26, 28, 30, 32, 34, 35, 36, 38, 40, 42, 44, 45, 46, 48, 50, 52, 54, 55, 56, 58, 60, 62, 64, 65, 66, 68, 70, 72, 74, 75, 76, 78, 80, 82, 84, 85, 86, 88, 90, 92, 94, 95, 96, 98, 100] \n",
      "\n"
     ]
    }
   ],
   "source": [
    "lists=[]\n",
    "print(\"For loop\")\n",
    "for i in range(1,101,1):\n",
    "    cube=pow(i,3)\n",
    "    if cube%4==0 or cube%5==0:\n",
    "        lists.append(i)\n",
    "print(lists,'\\n')\n",
    "\n",
    "lists=[]\n",
    "print(\"While loop\")\n",
    "i=1\n",
    "while i<101:\n",
    "    cube=pow(i,3)\n",
    "    if cube%4==0 or cube%5==0:\n",
    "        lists.append(i)\n",
    "    i+=1\n",
    "print(lists,'\\n')"
   ]
  },
  {
   "cell_type": "markdown",
   "id": "c6f76812",
   "metadata": {},
   "source": [
    "# Q5.  Write a program to filter count vowels in the below-given string.\n",
    "##     string = \"I want to become a data scientist\""
   ]
  },
  {
   "cell_type": "code",
   "execution_count": 34,
   "id": "bb3b4612",
   "metadata": {},
   "outputs": [
    {
     "name": "stdout",
     "output_type": "stream",
     "text": [
      "A or a:  4\n",
      "E or e:  3\n",
      "I or i:  3\n",
      "O or o:  2\n",
      "u or u:  0\n"
     ]
    }
   ],
   "source": [
    "string = \"I want to become a data scientist\"\n",
    "lower_string=string.lower()\n",
    "count=0\n",
    "print('A or a: ',lower_string.count('a'))\n",
    "print('E or e: ',lower_string.count('e'))\n",
    "print('I or i: ',lower_string.count('i'))\n",
    "print('O or o: ',lower_string.count('o'))\n",
    "print('u or u: ',lower_string.count('u'))"
   ]
  },
  {
   "cell_type": "code",
   "execution_count": null,
   "id": "09a04af0",
   "metadata": {},
   "outputs": [],
   "source": []
  }
 ],
 "metadata": {
  "kernelspec": {
   "display_name": "Python 3 (ipykernel)",
   "language": "python",
   "name": "python3"
  },
  "language_info": {
   "codemirror_mode": {
    "name": "ipython",
    "version": 3
   },
   "file_extension": ".py",
   "mimetype": "text/x-python",
   "name": "python",
   "nbconvert_exporter": "python",
   "pygments_lexer": "ipython3",
   "version": "3.9.13"
  }
 },
 "nbformat": 4,
 "nbformat_minor": 5
}
