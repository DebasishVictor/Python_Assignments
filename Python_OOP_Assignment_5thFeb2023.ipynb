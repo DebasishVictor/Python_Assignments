{
 "cells": [
  {
   "cell_type": "markdown",
   "id": "73388f5b",
   "metadata": {},
   "source": [
    "### Q1. Explain Class and Object with respect to Object-Oriented Programming. Give a suitable example."
   ]
  },
  {
   "cell_type": "code",
   "execution_count": 1,
   "id": "b62f4755",
   "metadata": {},
   "outputs": [
    {
     "name": "stdout",
     "output_type": "stream",
     "text": [
      "Example of Class...\n",
      "\n",
      "Example of Object\n",
      "Dog has Dog Head 4 Leg  with 2 Ears\n"
     ]
    }
   ],
   "source": [
    "#### Class is a bluprint where object is the real world entity\n",
    "#### Class is a kind of template and based on these template we create real life entities\n",
    "#### As an example int is a class and 5 is the variable of that int class type\n",
    "#### We can call object also instance variable\n",
    "\n",
    "print(\"Example of Class...\")\n",
    "class animal:\n",
    "    def __init__(cow,head,leg,ear):\n",
    "        cow.haed=head\n",
    "        cow.leg=leg\n",
    "        cow.ear=ear\n",
    "    def return_animal_body(cow):\n",
    "        return cow.haed,cow.leg,cow.ear\n",
    "    \n",
    "#### Here is animal is a class or a blueprint\n",
    "dog=animal('Dog Head','4 Leg',\"2 Ears\")\n",
    "\n",
    "print()\n",
    "print(\"Example of Object\")\n",
    "#### Here we are creating an object of animal class which has the class properties such as \n",
    "#### head, leg, ear\n",
    "\n"
   ]
  },
  {
   "cell_type": "markdown",
   "id": "7d278bdc",
   "metadata": {},
   "source": [
    "### Q2. Name the four pillars of OOPs."
   ]
  },
  {
   "cell_type": "code",
   "execution_count": null,
   "id": "12614295",
   "metadata": {},
   "outputs": [],
   "source": [
    "#### Four pillars of OOP:\n",
    "####      1. Inheritance\n",
    "####      2. Encapsulation\n",
    "####      3. Polymorphism\n",
    "####      4. Abstraction\n",
    "    "
   ]
  },
  {
   "cell_type": "markdown",
   "id": "21ceb4c4",
   "metadata": {},
   "source": [
    "### Q3. Explain why the __init__() function is used. Give a suitable example."
   ]
  },
  {
   "cell_type": "code",
   "execution_count": 2,
   "id": "d887b173",
   "metadata": {},
   "outputs": [
    {
     "name": "stdout",
     "output_type": "stream",
     "text": [
      "Toyota Car Has ('Toyota_Engine', 'Toyata Special 6 Wheel', 'Toyota Hybrid AC')\n"
     ]
    }
   ],
   "source": [
    "#### __init__ function is a constructor for python\n",
    "#### Everytime at the very first time constructor is called\n",
    "#### Even if every OOP supported language supports constructor\n",
    "##### Actually constructor is bydefault there\n",
    "#### with that python class understands that the arguments we passed belongs to that class\n",
    "#### this binding from passed argument to that particular class is done by __init__ function\n",
    "#### and with the helf of self keyword\n",
    "#### We can use any name instead of self\n",
    "\n",
    "class car:\n",
    "    def __init__(self,engine,wheel,cooling):\n",
    "        self.engine=engine\n",
    "        self.wheel=wheel\n",
    "        self.cooling=cooling\n",
    "    def return_car_template(self):\n",
    "        return self.engine,self.wheel,self.cooling\n",
    "toyota=car(\"Toyota_Engine\",\"Toyata Special 6 Wheel\",\"Toyota Hybrid AC\").return_car_template()\n",
    "print(\"Toyota Car Has\",toyota)\n"
   ]
  },
  {
   "cell_type": "markdown",
   "id": "0dba1a7f",
   "metadata": {},
   "source": [
    "### Q4. Why self is used in OOPs?"
   ]
  },
  {
   "cell_type": "code",
   "execution_count": null,
   "id": "d3915327",
   "metadata": {},
   "outputs": [],
   "source": [
    "#### We use self beacuse we want to bind the passed parameters to that class\n",
    "#### Unless that self keyword python interpreter doesnot know that those passed variable \n",
    "#### belongs to that class\n",
    "#### Whenever we need that particular variable we get those by using this self.variable_name\n",
    "#### Actually it works as a reference or connector for that decalred class\n",
    "#### We can compare it with pointer also\n",
    "#### It is as simillar as this keywod as Java"
   ]
  },
  {
   "cell_type": "markdown",
   "id": "a9cf1af9",
   "metadata": {},
   "source": [
    "### Q5. What is inheritance? Give an example for each type of inheritance"
   ]
  },
  {
   "cell_type": "code",
   "execution_count": 22,
   "id": "ca22c4bf",
   "metadata": {},
   "outputs": [
    {
     "name": "stdout",
     "output_type": "stream",
     "text": [
      "Single Inheritance\n",
      "\n",
      "I am parent class\n",
      "I am child class\n",
      "\n",
      "Multiple Inheritance\n",
      "\n",
      "I am parent class father\n",
      "I am parent class mother\n",
      "I am child class of both father and mother class\n",
      "\n",
      "Multilevel Inheritance\n",
      "\n",
      "I am grand father class\n",
      "I am father class inherits grand_super_class\n",
      "I am child class inherits father_class\n",
      "\n",
      "Hierarchical Inheritance\n",
      "\n",
      "I am parent class\n",
      "I am child_1 class inherits parent class\n",
      "I am parent class\n",
      "I am child_2 class inherits parent class\n"
     ]
    }
   ],
   "source": [
    "#### inheritance is a process by which we can acheive the properties as well as methods\n",
    "#### another class \n",
    "#### Which class inherits another class thay class is called child class or sub-class\n",
    "#### other class is called parent class or super-class\n",
    "#### There are 4 base types of that\n",
    "####      Single Inheritance\n",
    "####      Multiple Inheritance\n",
    "####      Multilevel Inheritance\n",
    "####      Hierarchical Inheritance\n",
    "\n",
    "\n",
    "print(\"Single Inheritance\\n\")\n",
    "class parent:\n",
    "    def super_class(self):\n",
    "        print(\"I am parent class\")\n",
    "class child(parent):\n",
    "    def sub_class(self):\n",
    "        print(\"I am child class\")\n",
    "child1=child()\n",
    "child1.super_class()\n",
    "child1.sub_class()\n",
    "\n",
    "print(\"\\nMultiple Inheritance\\n\")\n",
    "class parent_father:\n",
    "    def super_class(self):\n",
    "        print(\"I am parent class father\")\n",
    "class parent_mother:\n",
    "    def super_class2(self):\n",
    "        print(\"I am parent class mother\")\n",
    "class child(parent_father,parent_mother):\n",
    "    def sub_class(self):\n",
    "        print(\"I am child class of both father and mother class\")\n",
    "child2=child()\n",
    "child2.super_class()\n",
    "child2.super_class2()\n",
    "child2.sub_class()\n",
    "\n",
    "print(\"\\nMultilevel Inheritance\\n\")\n",
    "class grand_father:\n",
    "    def grand_super_class(self):\n",
    "        print(\"I am grand father class\")\n",
    "class father(grand_father):\n",
    "    def super_class(self):\n",
    "        print(\"I am father class inherits grand_super_class\")\n",
    "class child(father):\n",
    "    def sub_class(self):\n",
    "        print(\"I am child class inherits father_class\")\n",
    "child3=child()\n",
    "child3.grand_super_class()\n",
    "child3.super_class()\n",
    "child3.sub_class()\n",
    "\n",
    "print(\"\\nHierarchical Inheritance\\n\")\n",
    "class parent:\n",
    "    def super_class(self):\n",
    "        print(\"I am parent class\")\n",
    "class child_1(parent):\n",
    "    def sub_class_1(self):\n",
    "        print(\"I am child_1 class inherits parent class\")\n",
    "class child_2(parent):\n",
    "    def sub_class_2(self):\n",
    "        print(\"I am child_2 class inherits parent class\")\n",
    "child1=child_1()\n",
    "child2=child_2()\n",
    "child1.super_class()\n",
    "child1.sub_class_1()\n",
    "child2.super_class()\n",
    "child2.sub_class_2()\n",
    "\n"
   ]
  }
 ],
 "metadata": {
  "kernelspec": {
   "display_name": "Python 3 (ipykernel)",
   "language": "python",
   "name": "python3"
  },
  "language_info": {
   "codemirror_mode": {
    "name": "ipython",
    "version": 3
   },
   "file_extension": ".py",
   "mimetype": "text/x-python",
   "name": "python",
   "nbconvert_exporter": "python",
   "pygments_lexer": "ipython3",
   "version": "3.9.12"
  }
 },
 "nbformat": 4,
 "nbformat_minor": 5
}
