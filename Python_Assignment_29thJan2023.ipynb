{
 "cells": [
  {
   "cell_type": "markdown",
   "id": "a69a8080",
   "metadata": {},
   "source": [
    "### 01. Who developed Python Programming Language?"
   ]
  },
  {
   "cell_type": "code",
   "execution_count": null,
   "id": "c3d2f134",
   "metadata": {},
   "outputs": [],
   "source": [
    "#### Python was developed by Guido van Rossum.\n",
    "#### Python first released on February 20, 1991. \n",
    "#### Python programming language comes from an old BBC television comedy.\n",
    "#### The name of that comedy was sketch series. \n",
    "#### It is also called Monty Python's Flying Circus."
   ]
  },
  {
   "cell_type": "markdown",
   "id": "eba784b2",
   "metadata": {},
   "source": [
    "### 02. Which type of programming language python suport?"
   ]
  },
  {
   "cell_type": "code",
   "execution_count": 1,
   "id": "5fed34ef",
   "metadata": {},
   "outputs": [],
   "source": [
    "#### Python supports OOP based language\n",
    "#### Python supports funtional programming\n",
    "#### Python also supports imperative programming which means step by step\n",
    "#### Python rarely supports aspect oriented programming where we can\n",
    "#### can add additional code but cannot modified code.\n",
    "#### Its support is limited"
   ]
  },
  {
   "cell_type": "markdown",
   "id": "4b8c3dcb",
   "metadata": {},
   "source": [
    "### 03. Is python case sensative when dealing with identifiers?"
   ]
  },
  {
   "cell_type": "code",
   "execution_count": 2,
   "id": "d71ade9f",
   "metadata": {},
   "outputs": [],
   "source": [
    "#### Yes python is a case sensative language while dealing with identifiers."
   ]
  },
  {
   "cell_type": "markdown",
   "id": "156292bf",
   "metadata": {},
   "source": [
    "### 04. What is the correct extention of Python file?"
   ]
  },
  {
   "cell_type": "code",
   "execution_count": 4,
   "id": "36a75afc",
   "metadata": {},
   "outputs": [],
   "source": [
    "#### .py is the correct extention for python file"
   ]
  },
  {
   "cell_type": "markdown",
   "id": "5dfc4c8b",
   "metadata": {},
   "source": [
    "### 05. Is python compiled or interpreted language?"
   ]
  },
  {
   "cell_type": "code",
   "execution_count": 5,
   "id": "cd304b57",
   "metadata": {},
   "outputs": [],
   "source": [
    "#### Python is a interpreted language."
   ]
  },
  {
   "cell_type": "markdown",
   "id": "7fabd3f2",
   "metadata": {},
   "source": [
    "### 06. Name a few block of code used to define in Python programming?"
   ]
  },
  {
   "cell_type": "code",
   "execution_count": null,
   "id": "0edefa86",
   "metadata": {},
   "outputs": [],
   "source": [
    "### indentaion block\n",
    "### if else block\n",
    "### loop block"
   ]
  },
  {
   "cell_type": "markdown",
   "id": "a5269269",
   "metadata": {},
   "source": [
    "### 07. State a character used to give single line comments in python?"
   ]
  },
  {
   "cell_type": "code",
   "execution_count": null,
   "id": "2487466e",
   "metadata": {},
   "outputs": [],
   "source": [
    "#### \"\" (double quote canbe used)"
   ]
  },
  {
   "cell_type": "markdown",
   "id": "303bae6c",
   "metadata": {},
   "source": [
    "### 08. Check python version we are working on?"
   ]
  },
  {
   "cell_type": "code",
   "execution_count": 14,
   "id": "7ab1fa99",
   "metadata": {},
   "outputs": [],
   "source": [
    "#### python --version"
   ]
  },
  {
   "cell_type": "markdown",
   "id": "0e75bb43",
   "metadata": {},
   "source": [
    "### 09. python supports the creation of anonymous functions at runtime using a construct called?"
   ]
  },
  {
   "cell_type": "code",
   "execution_count": 15,
   "id": "88a5ab74",
   "metadata": {},
   "outputs": [],
   "source": [
    "#### lambda function"
   ]
  },
  {
   "cell_type": "markdown",
   "id": "e48c7c6c",
   "metadata": {},
   "source": [
    "### 10. what does pip stand for python?"
   ]
  },
  {
   "cell_type": "code",
   "execution_count": 16,
   "id": "6cf1c152",
   "metadata": {},
   "outputs": [],
   "source": [
    "#### pip stands for pip install packages"
   ]
  },
  {
   "cell_type": "markdown",
   "id": "a53a0ba2",
   "metadata": {},
   "source": [
    "### 11. Mention some builtin function?"
   ]
  },
  {
   "cell_type": "code",
   "execution_count": null,
   "id": "f5be85e3",
   "metadata": {},
   "outputs": [],
   "source": [
    "#### len(),range(),type(),id() etc"
   ]
  },
  {
   "cell_type": "markdown",
   "id": "697d69a7",
   "metadata": {},
   "source": [
    "### 12.what is the maximum length of a python identifier?"
   ]
  },
  {
   "cell_type": "code",
   "execution_count": 17,
   "id": "174cf704",
   "metadata": {},
   "outputs": [],
   "source": [
    "#### 79 characters."
   ]
  },
  {
   "cell_type": "markdown",
   "id": "67f953b5",
   "metadata": {},
   "source": [
    "### 13. Benefits of learning python ?"
   ]
  },
  {
   "cell_type": "code",
   "execution_count": null,
   "id": "59c3881a",
   "metadata": {},
   "outputs": [],
   "source": [
    "#### Benefits of Python Programming Language....\n",
    "\n",
    "#### Data science\n",
    "#### mathematical computing\n",
    "#### Web development\n",
    "#### Finance task\n",
    "#### System automation\n",
    "#### Game development\n",
    "#### Mapping\n",
    "#### Scropting Tasks"
   ]
  },
  {
   "cell_type": "markdown",
   "id": "8685d5d2",
   "metadata": {},
   "source": [
    "### 14. How memory managed in python?"
   ]
  },
  {
   "cell_type": "code",
   "execution_count": null,
   "id": "7458cd37",
   "metadata": {},
   "outputs": [],
   "source": [
    "#### Memory management in Python involves a private heap \n",
    "#### Haep contains all Python objects and data structures. \n",
    "#### The management of this private heap is ensured internally \n",
    "#### It is done by the Python memory manager."
   ]
  },
  {
   "cell_type": "markdown",
   "id": "766d736c",
   "metadata": {},
   "source": [
    "### 15. How to install python and add variable?"
   ]
  },
  {
   "cell_type": "code",
   "execution_count": null,
   "id": "84737c7e",
   "metadata": {},
   "outputs": [],
   "source": [
    "#### We have to download python official website\n",
    "#### After this, install it on PC. \n",
    "#### Then we have to look for the location where PYTHON has been installed\n",
    "#### For that we have to type in cmd: python.\n",
    "#### Then go to advanced system settings \n",
    "#### and add new variable and name it as PYTHON_NAME\n",
    "#### and paste the copied path.\n",
    "#### Then look for the path variable, select it's value \n",
    "#### and select edit add a semicolon towards the end of the value\n",
    "#### if it's not present and then type %PYTHON_HOME%"
   ]
  },
  {
   "cell_type": "markdown",
   "id": "a4cb0fab",
   "metadata": {},
   "source": [
    "### 16. Is inentation required in python?"
   ]
  },
  {
   "cell_type": "code",
   "execution_count": null,
   "id": "1f98889b",
   "metadata": {},
   "outputs": [],
   "source": [
    "#### Yes Its required."
   ]
  }
 ],
 "metadata": {
  "kernelspec": {
   "display_name": "Python 3 (ipykernel)",
   "language": "python",
   "name": "python3"
  },
  "language_info": {
   "codemirror_mode": {
    "name": "ipython",
    "version": 3
   },
   "file_extension": ".py",
   "mimetype": "text/x-python",
   "name": "python",
   "nbconvert_exporter": "python",
   "pygments_lexer": "ipython3",
   "version": "3.9.12"
  }
 },
 "nbformat": 4,
 "nbformat_minor": 5
}
