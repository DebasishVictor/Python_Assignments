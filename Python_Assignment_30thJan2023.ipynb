{
 "cells": [
  {
   "cell_type": "code",
   "execution_count": 3,
   "id": "6e867509",
   "metadata": {},
   "outputs": [
    {
     "name": "stdout",
     "output_type": "stream",
     "text": [
      "Enter your marks::98\n",
      "A\n"
     ]
    }
   ],
   "source": [
    "# Problem 1 Solution\n",
    "\n",
    "marks=int(input(\"Enter your marks::\"))\n",
    "if marks<60:\n",
    "    print(\"D\")\n",
    "else:\n",
    "    if marks>=60 and marks<=80:\n",
    "        print(\"C\")\n",
    "    elif marks>80 and marks<=90:\n",
    "        print(\"B\")\n",
    "    else:\n",
    "        print(\"A\")"
   ]
  },
  {
   "cell_type": "code",
   "execution_count": 9,
   "id": "1654394e",
   "metadata": {},
   "outputs": [
    {
     "name": "stdout",
     "output_type": "stream",
     "text": [
      "Enter Cost:1000000\n",
      "15%\n"
     ]
    }
   ],
   "source": [
    "# Problem 2 Solution\n",
    "\n",
    "cost=int(input(\"Enter Cost:\"))\n",
    "\n",
    "if cost<=50000:\n",
    "    print(\"5%\")    \n",
    "elif cost>50000 and cost<=100000:\n",
    "    print(\"10%\")\n",
    "else:\n",
    "    print(\"15%\")\n"
   ]
  },
  {
   "cell_type": "code",
   "execution_count": 13,
   "id": "dd16ecc4",
   "metadata": {},
   "outputs": [
    {
     "name": "stdout",
     "output_type": "stream",
     "text": [
      "Enter City Name::Agra\n",
      "Taj Mahal\n"
     ]
    }
   ],
   "source": [
    "# Problem 3 Solution\n",
    "\n",
    "city=input(\"Enter City Name::\")\n",
    "if city==\"Delhi\":\n",
    "    print(\"Red Fort\")\n",
    "elif city==\"Agra\":\n",
    "    print(\"Taj Mahal\")\n",
    "elif city==\"Jaipur\":\n",
    "    print(\"Jal Mahal\")\n",
    "else:\n",
    "    print(\"Not Found\")"
   ]
  },
  {
   "cell_type": "code",
   "execution_count": 32,
   "id": "e2dd8e41",
   "metadata": {},
   "outputs": [
    {
     "name": "stdout",
     "output_type": "stream",
     "text": [
      "Enter a number::153\n"
     ]
    },
    {
     "data": {
      "text/plain": [
       "2"
      ]
     },
     "execution_count": 32,
     "metadata": {},
     "output_type": "execute_result"
    }
   ],
   "source": [
    "# Problem 4 \n",
    "# How many times a number can be divided by 3 before it is less than\n",
    "# equal to 10\n",
    "\n",
    "# Problem 4 Solution\n",
    "count=0\n",
    "number=int(input(\"Enter a number::\"))\n",
    "while number>=10:\n",
    "    if number%3==0:\n",
    "        count+=1\n",
    "    number=number//3\n",
    "count    "
   ]
  },
  {
   "cell_type": "code",
   "execution_count": 36,
   "id": "cd36cf3d",
   "metadata": {},
   "outputs": [
    {
     "name": "stdout",
     "output_type": "stream",
     "text": [
      "1\n",
      "2\n",
      "3\n",
      "4\n",
      "5\n"
     ]
    }
   ],
   "source": [
    "# when and where use while loop and give a example\n",
    "\n",
    "# Problem 5 Solution\n",
    "### python while loop is used to run a block code\n",
    "### until a specific condition is met\n",
    "### first while loop evaluates the condition \n",
    "### if true then it comes to while block and perform the task\n",
    "### then again check condition \n",
    "### and continue that process untill the condition terminates\n",
    "### we use while loop when exactly donot know how many time the loop\n",
    "### will run and while loop runs based on condition.\n",
    "\n",
    "i = 1\n",
    "n = 5\n",
    "while i <= n:\n",
    "    print(i)\n",
    "    i = i + 1\n"
   ]
  },
  {
   "cell_type": "code",
   "execution_count": 60,
   "id": "c02547a8",
   "metadata": {},
   "outputs": [
    {
     "name": "stdout",
     "output_type": "stream",
     "text": [
      "Pattern 1\n",
      "*\n",
      "**\n",
      "***\n",
      "****\n",
      "*****\n",
      "\n",
      "Pattern 2\n",
      "*****\n",
      "****\n",
      "***\n",
      "**\n",
      "*\n",
      "\n",
      "\n",
      "Pattern 3\n",
      "    * \n",
      "   * * \n",
      "  * * * \n",
      " * * * * \n",
      "* * * * * \n"
     ]
    }
   ],
   "source": [
    "# Use nested while loop for printing 3 different patterns.\n",
    "\n",
    "print(\"Pattern 1\")\n",
    "i=1\n",
    "while i<=5:\n",
    "    j=i\n",
    "    while j>0:\n",
    "        print('*',end='')\n",
    "        j-=1\n",
    "    print()\n",
    "    i+=1\n",
    "    \n",
    "print(\"\\nPattern 2\") \n",
    "i=5\n",
    "while i>=0:\n",
    "    j=i\n",
    "    while j>0:\n",
    "        print('*',end='')\n",
    "        j-=1\n",
    "    print()\n",
    "    i-=1\n",
    "    \n",
    "print(\"\\nPattern 3\")\n",
    "row=5\n",
    "crow=1\n",
    "end=5\n",
    "star=1\n",
    "space=row-crow\n",
    "\n",
    "while end>0:\n",
    "    \n",
    "    while space>0:\n",
    "        print(\" \",end='')\n",
    "        space-=1\n",
    "    \n",
    "    while star>0:\n",
    "        print(\"*\",end=' ')\n",
    "        star-=1\n",
    "    print()\n",
    "   \n",
    "    crow+=1\n",
    "    space=row-crow\n",
    "    star=crow\n",
    "    end-=1\n",
    "        \n",
    "        "
   ]
  },
  {
   "cell_type": "code",
   "execution_count": 61,
   "id": "698c0529",
   "metadata": {},
   "outputs": [
    {
     "name": "stdout",
     "output_type": "stream",
     "text": [
      "10\n",
      "9\n",
      "8\n",
      "7\n",
      "6\n",
      "5\n",
      "4\n",
      "3\n",
      "2\n",
      "1\n"
     ]
    }
   ],
   "source": [
    "# Problem 7 Solution\n",
    "num=10\n",
    "while num>0:\n",
    "    print(num)\n",
    "    num-=1\n",
    "    "
   ]
  },
  {
   "cell_type": "code",
   "execution_count": null,
   "id": "b8305cd8",
   "metadata": {},
   "outputs": [],
   "source": []
  }
 ],
 "metadata": {
  "kernelspec": {
   "display_name": "Python 3 (ipykernel)",
   "language": "python",
   "name": "python3"
  },
  "language_info": {
   "codemirror_mode": {
    "name": "ipython",
    "version": 3
   },
   "file_extension": ".py",
   "mimetype": "text/x-python",
   "name": "python",
   "nbconvert_exporter": "python",
   "pygments_lexer": "ipython3",
   "version": "3.9.12"
  }
 },
 "nbformat": 4,
 "nbformat_minor": 5
}
